{
  "nbformat": 4,
  "nbformat_minor": 0,
  "metadata": {
    "colab": {
      "name": "lab3part1.md",
      "provenance": [],
      "collapsed_sections": [],
      "authorship_tag": "ABX9TyNXIV4Nwu05dBU8y2oazmpp",
      "include_colab_link": true
    },
    "kernelspec": {
      "name": "python3",
      "display_name": "Python 3"
    },
    "language_info": {
      "name": "python"
    }
  },
  "cells": [
    {
      "cell_type": "markdown",
      "metadata": {
        "id": "view-in-github",
        "colab_type": "text"
      },
      "source": [
        "<a href=\"https://colab.research.google.com/github/RyanChan912/README.md/blob/main/lab3part1_md.ipynb\" target=\"_parent\"><img src=\"https://colab.research.google.com/assets/colab-badge.svg\" alt=\"Open In Colab\"/></a>"
      ]
    },
    {
      "cell_type": "markdown",
      "metadata": {
        "id": "mHJiOBlZD4P8"
      },
      "source": [
        "#Answer for Part 1\n",
        "\n",
        "---\n",
        "\n",
        "\n",
        "\n",
        "---\n",
        "\n",
        "\n",
        "Xiang T.R.Kong et al. (2010) Cyber physical ecommerce logistics system: An implementation case in Hong Kong Computers & Industrial Engineering, Volume 139, January 2020, 106170\n",
        "~~~markdown\n",
        "##1.Summarize the papers in a few sentences. Do not just copy the abstract or conclusion.\n",
        "-This paper talking about how cross-border ecommerce develop and work also how the new operation model requires in HK.\n",
        "##2.What are the keywords used to categorize the paper?\n",
        "-The architecture of CPeLS\n",
        "-iCoordinator for smart operations\n",
        "-iSync for smart processes\n",
        "##3.What are the main approaches? Comment on their novelty and technical depth.\n",
        "-The cross-border ecommerce logistics development in Hong Kong are still develop slowly in most of small and medium sized enterprises (SMEs) in Hong Kong due to the capital constrains and technical threshold.\n",
        "Therefore the technology skills are low.Although they are now using automation equipment but still have the gap between planning and scheduling level and execution level exists.\n",
        "So HK need to improve the novelty maybe by using high-tech robotics and facilities to solve cross-border ecommerce logistics development problem.\n",
        "##4.What are the major strengths of the paper?\n",
        "-Major strength is China already have a well develop croos-border ecommerce the value of overseas online shopping transactions jumps to RMB1000 billion.\n",
        "This is major strength of China.\n",
        "##5.What are the major weaknesses of the paper?\n",
        "-Major weakness is Hong Kong lack of information technologies and practices therefore cause most pf small and medium sized enterprises in HK due to the capital constrains and technical threshold.\n",
        "Also neighbouring regions develop their logistics industry fast towards higher level of automation and intelligence.This will challenge HK role as an Asiapacific logistics hub.This is the major weakness in Hong Kong. \n",
        "##6.What do you learn from the paper? It can be either a new research area, or a new problem, or the approach itself, or evaluation methodology, or the results.\n",
        "-I learn about how HK cross-border ecommerce logistics development and how the whole system work.\n",
        "HK as a international city in order to upgrade the ecommerce logistics therefore use new technology to improve productivity and bring a revolutionary paradigm to e-commerce logistics.\n",
        "##7.Other comments.\n",
        "-No comment\n",
        "~~~\n",
        "---\n",
        "Table for Lab1 Q6/Q7:\n",
        "```markdown\n",
        "Program | Software manufacturer | Software version | Software type\n",
        "--------|-----------------------|------------------|-------------------\n",
        "  MacOs |        Apple          |macOS Big Sur 11.6|       MacOs\n",
        " Google |      Google LLC       |   95.0.4638.69.  |  Chrome on macOS\n",
        "\n",
        "\n",
        "  Apps  | Software manufacturer | Software version | Software type\n",
        "--------|-----------------------|------------------|-------------------\n",
        "  APPLE |       APPLE INC       |    IOS 14.7.1.   |        IOS\n",
        "\n",
        "  ```\n",
        "  ---\n",
        "\n",
        "\n",
        "\n",
        "\n",
        "\n",
        "\n",
        "\n",
        "\n",
        "\n"
      ]
    }
  ]
}